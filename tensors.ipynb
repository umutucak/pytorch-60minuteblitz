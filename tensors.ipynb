{
 "cells": [
  {
   "cell_type": "code",
   "execution_count": 115,
   "metadata": {},
   "outputs": [],
   "source": [
    "import torch\n",
    "import numpy as np"
   ]
  },
  {
   "cell_type": "markdown",
   "metadata": {},
   "source": [
    "### Tensor Initialization"
   ]
  },
  {
   "cell_type": "code",
   "execution_count": 116,
   "metadata": {},
   "outputs": [
    {
     "name": "stdout",
     "output_type": "stream",
     "text": [
      "Ones Tensor:\n",
      "tensor([[1, 1],\n",
      "        [1, 1]])\n",
      "\n",
      "Random Tensor:\n",
      "tensor([[0.1238, 0.6076],\n",
      "        [0.6274, 0.5532]])\n"
     ]
    }
   ],
   "source": [
    "# from list\n",
    "data = [[1, 2], [3, 4]]\n",
    "x_data = torch.tensor(data)\n",
    "\n",
    "# from ndarray\n",
    "np_array = np.array(data)\n",
    "x_np = torch.from_numpy(np_array)\n",
    "\n",
    "# from another tensor\n",
    "x_ones = torch.ones_like(x_data)\n",
    "print(f\"Ones Tensor:\\n{x_ones}\\n\")\n",
    "\n",
    "# overriding dtype to pytorch float\n",
    "x_rand = torch.rand_like(x_data, dtype=torch.float)\n",
    "print(f\"Random Tensor:\\n{x_rand}\")"
   ]
  },
  {
   "cell_type": "markdown",
   "metadata": {},
   "source": [
    "### Tensor Shapes"
   ]
  },
  {
   "cell_type": "code",
   "execution_count": 117,
   "metadata": {},
   "outputs": [
    {
     "name": "stdout",
     "output_type": "stream",
     "text": [
      "Random Tensor:\n",
      "tensor([[0.4889, 0.9151, 0.8630],\n",
      "        [0.9750, 0.5406, 0.8929]])\n",
      "Ones Tensor:\n",
      "tensor([[1., 1., 1.],\n",
      "        [1., 1., 1.]])\n",
      "Zeros Tensor:\n",
      "tensor([[0., 0., 0.],\n",
      "        [0., 0., 0.]])\n"
     ]
    }
   ],
   "source": [
    "shape = (2, 3,)\n",
    "rand_tensor = torch.rand(shape)\n",
    "ones_tensor = torch.ones(shape)\n",
    "zeros_tensor = torch.zeros(shape)\n",
    "\n",
    "print(f\"Random Tensor:\\n{rand_tensor}\")\n",
    "print(f\"Ones Tensor:\\n{ones_tensor}\")\n",
    "print(f\"Zeros Tensor:\\n{zeros_tensor}\")"
   ]
  },
  {
   "cell_type": "markdown",
   "metadata": {},
   "source": [
    "### Tensor Attributes\n",
    "- Shape\n",
    "- Datatype\n",
    "- Device on which they are stored (CPU, GPU, etc)"
   ]
  },
  {
   "cell_type": "code",
   "execution_count": 118,
   "metadata": {},
   "outputs": [
    {
     "name": "stdout",
     "output_type": "stream",
     "text": [
      "Tensor:\n",
      "tensor([[0.6951, 0.0345, 0.7434, 0.5925],\n",
      "        [0.2676, 0.7217, 0.6948, 0.7912],\n",
      "        [0.9387, 0.9355, 0.1791, 0.8370]])\n",
      "\n",
      "Shape of tensor: torch.Size([3, 4])\n",
      "Datatype of tensor: torch.float32\n",
      "Device tensor is stored on: cpu\n"
     ]
    }
   ],
   "source": [
    "tensor = torch.rand(3, 4)\n",
    "print(f\"Tensor:\\n{tensor}\\n\")\n",
    "print(f\"Shape of tensor: {tensor.shape}\")\n",
    "print(f\"Datatype of tensor: {tensor.dtype}\")\n",
    "print(f\"Device tensor is stored on: {tensor.device}\")"
   ]
  },
  {
   "cell_type": "markdown",
   "metadata": {},
   "source": [
    "## Tensor Operations\n",
    "Over 100 tensor operations, including transposing, indexing, slicing, mathematical operations, linear algebra, random sampling, and more are comprehensively described [here](https://pytorch.org/docs/stable/torch.html).\n",
    "\n",
    "Each of them can be run on the GPU (at typically higher speeds than on a CPU). If you’re using Colab, allocate a GPU by going to Edit > Notebook Settings."
   ]
  },
  {
   "cell_type": "markdown",
   "metadata": {},
   "source": [
    "### Switching to the GPU"
   ]
  },
  {
   "cell_type": "code",
   "execution_count": 119,
   "metadata": {},
   "outputs": [],
   "source": [
    "if torch.cuda.is_available(): # I'm on apple silicon, no GPU :)\n",
    "    tensor = tensor.to('cuda')\n",
    "    print(f\"Device tensor is stored on: {tensor.device}\")"
   ]
  },
  {
   "cell_type": "markdown",
   "metadata": {},
   "source": [
    "### NumPy Indexing/Slicing"
   ]
  },
  {
   "cell_type": "code",
   "execution_count": 120,
   "metadata": {},
   "outputs": [
    {
     "name": "stdout",
     "output_type": "stream",
     "text": [
      "Tensor:\n",
      "tensor([[0.6951, 0.0000, 0.7434, 0.5925],\n",
      "        [0.2676, 0.0000, 0.6948, 0.7912],\n",
      "        [0.9387, 0.0000, 0.1791, 0.8370]])\n",
      "Tensor shape: torch.Size([3, 4])\n"
     ]
    }
   ],
   "source": [
    "tensor[:, 1] = 0 # 1st column is zero\n",
    "print(f\"Tensor:\\n{tensor}\")\n",
    "print(f\"Tensor shape: {tensor.shape}\")"
   ]
  },
  {
   "cell_type": "markdown",
   "metadata": {},
   "source": [
    "### Joining tensors"
   ]
  },
  {
   "cell_type": "code",
   "execution_count": 121,
   "metadata": {},
   "outputs": [
    {
     "name": "stdout",
     "output_type": "stream",
     "text": [
      "Concatenated tensors:\n",
      "tensor([[0.6951, 0.0000, 0.7434, 0.5925, 0.6951, 0.0000, 0.7434, 0.5925, 0.6951,\n",
      "         0.0000, 0.7434, 0.5925],\n",
      "        [0.2676, 0.0000, 0.6948, 0.7912, 0.2676, 0.0000, 0.6948, 0.7912, 0.2676,\n",
      "         0.0000, 0.6948, 0.7912],\n",
      "        [0.9387, 0.0000, 0.1791, 0.8370, 0.9387, 0.0000, 0.1791, 0.8370, 0.9387,\n",
      "         0.0000, 0.1791, 0.8370]])\n",
      "Concatenated tensor shape: torch.Size([3, 12])\n"
     ]
    }
   ],
   "source": [
    "t1 = torch.cat([tensor, tensor, tensor], dim=1)\n",
    "print(f\"Concatenated tensors:\\n{t1}\")\n",
    "print(f\"Concatenated tensor shape: {t1.shape}\")"
   ]
  },
  {
   "cell_type": "markdown",
   "metadata": {},
   "source": [
    "### Element-wise product"
   ]
  },
  {
   "cell_type": "code",
   "execution_count": 122,
   "metadata": {},
   "outputs": [
    {
     "name": "stdout",
     "output_type": "stream",
     "text": [
      "tensor.mul(tensor)\n",
      "tensor([[0.4832, 0.0000, 0.5526, 0.3510],\n",
      "        [0.0716, 0.0000, 0.4827, 0.6260],\n",
      "        [0.8811, 0.0000, 0.0321, 0.7006]])\n",
      "\n",
      "tensor * tensor \n",
      " tensor([[0.4832, 0.0000, 0.5526, 0.3510],\n",
      "        [0.0716, 0.0000, 0.4827, 0.6260],\n",
      "        [0.8811, 0.0000, 0.0321, 0.7006]])\n"
     ]
    }
   ],
   "source": [
    "print(f\"tensor.mul(tensor)\\n{tensor.mul(tensor)}\\n\")\n",
    "# alternative syntax\n",
    "print(f\"tensor * tensor \\n {tensor * tensor}\")"
   ]
  },
  {
   "cell_type": "markdown",
   "metadata": {},
   "source": [
    "### Matrix Multiplication"
   ]
  },
  {
   "cell_type": "code",
   "execution_count": 123,
   "metadata": {},
   "outputs": [
    {
     "name": "stdout",
     "output_type": "stream",
     "text": [
      "tensor.matmul(tensor.T)\n",
      "tensor([[1.3868, 1.1712, 1.2815],\n",
      "        [1.1712, 1.1802, 1.0378],\n",
      "        [1.2815, 1.0378, 1.6138]])\n",
      "\n",
      "tensor @ tensor.T\n",
      "tensor([[1.3868, 1.1712, 1.2815],\n",
      "        [1.1712, 1.1802, 1.0378],\n",
      "        [1.2815, 1.0378, 1.6138]])\n"
     ]
    }
   ],
   "source": [
    "print(f\"tensor.matmul(tensor.T)\\n{tensor.matmul(tensor.T)}\\n\")\n",
    "# alternative syntax\n",
    "print(f\"tensor @ tensor.T\\n{tensor @ tensor.T}\")"
   ]
  },
  {
   "cell_type": "markdown",
   "metadata": {},
   "source": [
    "### In-place operations\n",
    "Operations that have a `_` suffix are in-place. For example: `x.copy_(y)`, `x.t_()`, will change `x`."
   ]
  },
  {
   "cell_type": "code",
   "execution_count": 124,
   "metadata": {},
   "outputs": [
    {
     "name": "stdout",
     "output_type": "stream",
     "text": [
      "tensor([[0.6951, 0.0000, 0.7434, 0.5925],\n",
      "        [0.2676, 0.0000, 0.6948, 0.7912],\n",
      "        [0.9387, 0.0000, 0.1791, 0.8370]])\n",
      "\n",
      "tensor([[5.6951, 5.0000, 5.7434, 5.5925],\n",
      "        [5.2676, 5.0000, 5.6948, 5.7912],\n",
      "        [5.9387, 5.0000, 5.1791, 5.8370]])\n"
     ]
    }
   ],
   "source": [
    "print(f\"{tensor}\\n\")\n",
    "tensor.add_(5)\n",
    "print(tensor)"
   ]
  },
  {
   "cell_type": "markdown",
   "metadata": {},
   "source": [
    "## Bridge with NumPy\n",
    "Tensors on the CPU and NumPy arrays can share their underlying memory locations, and changing one will change the other."
   ]
  },
  {
   "cell_type": "markdown",
   "metadata": {},
   "source": [
    "### Tensor to NumPy"
   ]
  },
  {
   "cell_type": "code",
   "execution_count": 125,
   "metadata": {},
   "outputs": [
    {
     "name": "stdout",
     "output_type": "stream",
     "text": [
      "Tensor: tensor([1., 1., 1., 1., 1.])\n",
      "dtype: <class 'torch.Tensor'>\n",
      "NumPy: [1. 1. 1. 1. 1.]\n",
      "dtype: <class 'numpy.ndarray'>\n"
     ]
    }
   ],
   "source": [
    "t = torch.ones(5)\n",
    "print(f\"Tensor: {t}\\ndtype: {type(t)}\")\n",
    "n = t.numpy()\n",
    "print(f\"NumPy: {n}\\ndtype: {type(n)}\")"
   ]
  },
  {
   "cell_type": "markdown",
   "metadata": {},
   "source": [
    "A change in the tensor reflects in the NumPy array."
   ]
  },
  {
   "cell_type": "code",
   "execution_count": 126,
   "metadata": {},
   "outputs": [
    {
     "name": "stdout",
     "output_type": "stream",
     "text": [
      "t: tensor([2., 2., 2., 2., 2.])\n",
      "n: [2. 2. 2. 2. 2.]\n"
     ]
    }
   ],
   "source": [
    "t.add_(1)\n",
    "print(f\"t: {t}\")\n",
    "print(f\"n: {n}\")"
   ]
  },
  {
   "cell_type": "markdown",
   "metadata": {},
   "source": [
    "### NumPy to Tensor"
   ]
  },
  {
   "cell_type": "code",
   "execution_count": 127,
   "metadata": {},
   "outputs": [],
   "source": [
    "n = np.ones(5)\n",
    "t = torch.from_numpy(n)"
   ]
  },
  {
   "cell_type": "markdown",
   "metadata": {},
   "source": [
    "Changes in the NumPy array reflects in the tensor."
   ]
  },
  {
   "cell_type": "code",
   "execution_count": 128,
   "metadata": {},
   "outputs": [
    {
     "name": "stdout",
     "output_type": "stream",
     "text": [
      "t: tensor([2., 2., 2., 2., 2.], dtype=torch.float64)\n",
      "n: [2. 2. 2. 2. 2.]\n"
     ]
    }
   ],
   "source": [
    "np.add(n, 1, out=n)\n",
    "print(f\"t: {t}\")\n",
    "print(f\"n: {n}\")"
   ]
  }
 ],
 "metadata": {
  "kernelspec": {
   "display_name": ".venv",
   "language": "python",
   "name": "python3"
  },
  "language_info": {
   "codemirror_mode": {
    "name": "ipython",
    "version": 3
   },
   "file_extension": ".py",
   "mimetype": "text/x-python",
   "name": "python",
   "nbconvert_exporter": "python",
   "pygments_lexer": "ipython3",
   "version": "3.11.6"
  }
 },
 "nbformat": 4,
 "nbformat_minor": 2
}
